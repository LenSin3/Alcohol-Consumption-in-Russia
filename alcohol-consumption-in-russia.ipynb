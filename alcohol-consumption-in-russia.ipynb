{
 "cells": [
  {
   "cell_type": "markdown",
   "id": "legislative-fetish",
   "metadata": {},
   "source": [
    "# Alcohol Consumption in Russia"
   ]
  },
  {
   "cell_type": "markdown",
   "id": "brown-environment",
   "metadata": {},
   "source": [
    "![Alcoholic Beverages in Russia](images/drinks.png)\n",
    "            Source: [The Russian alcohol market: a heady cocktail](http://www.food-exhibitions.com/Market-Insights/Russia/The-Russian-alcohol-market)"
   ]
  },
  {
   "cell_type": "markdown",
   "id": "attractive-prescription",
   "metadata": {},
   "source": [
    "## Project Motivation\n",
    "\n",
    "A fictitious company owns a chain of stores across Russia that sell a variety of types of alcohol. The company recently ran a wine promotion in Saint Petersburg that was very successful. Due to the cost to the business, it isn’t possible to run the promotion in all regions. The marketing team would like to target 10 other regions that have similar buying habits to Saint Petersburg where they would expect the promotion to be similarly successful and need help determining which regions they should select.\n",
    "\n",
    "![Regions in Russia](images/regions.png)\n",
    "        Source: [Outline of Russia](https://en.wikipedia.org/wiki/Outline_of_Russia)\n",
    "        \n",
    "This project aims to use machine learning algorithm to recommend, at least 10 regions with alcohol buying habits similar to Saint Petersburg. "
   ]
  },
  {
   "cell_type": "markdown",
   "id": "complimentary-track",
   "metadata": {},
   "source": [
    "## The Dataset\n",
    "\n",
    "The data used in this project is obtained from [Datacamp's Career Hub repository](https://github.com/datacamp/careerhub-data) on GitHub. It contains 7 variables as see in the description below:\n",
    "\n",
    "![Description of dataset](images/data_description.png)"
   ]
  },
  {
   "cell_type": "markdown",
   "id": "annoying-alias",
   "metadata": {},
   "source": [
    "## Analysis Plan\n",
    "\n",
    "Based on the ask of the project, the problem is best solved using an unsupervied machine learning algorithm that could best cluster regions based on wine sales in Saint Petersburg. Selection of this algorithm will be done in subsequent sections.\n",
    "\n",
    "The following steps will be followed:\n",
    "\n",
    "- Perform Exploratory Data Analysis to identify patters and draw insights from the data.\n",
    "- Select a suitable unsupervised machine learning algorithm based on problem to solve and information from the exploratory data analysis.\n",
    "- Discuss model performance."
   ]
  },
  {
   "cell_type": "markdown",
   "id": "instrumental-client",
   "metadata": {},
   "source": [
    "### Exploratory Data Analysis\n",
    "\n",
    "This section will explore the data to discover trends and insights. It will be done by creating plots of features against their values. The following steps will be implemented:\n",
    "\n",
    "- Read data\n",
    "- Check for data quality issues.\n",
    "- Clean and transform data into a suitable format for exploration.\n",
    "- Data Visualization to observe patterns and trends."
   ]
  },
  {
   "cell_type": "code",
   "execution_count": 1,
   "id": "talented-dinner",
   "metadata": {},
   "outputs": [
    {
     "name": "stdout",
     "output_type": "stream",
     "text": [
      "Windows-10-10.0.19041-SP0\n",
      "Python 3.6.12 |Anaconda, Inc.| (default, Sep  9 2020, 00:29:25) [MSC v.1916 64 bit (AMD64)]\n",
      "Numpy 1.19.2\n",
      "Matplotlib 3.3.2\n",
      "Pandas 1.1.5\n",
      "Seaborn 0.11.1\n",
      "Scipy 1.5.2\n",
      "Scikit -Learn 0.23.2\n"
     ]
    }
   ],
   "source": [
    "# import system and exploratory analysis modules\n",
    "import platform; print(platform.platform())\n",
    "import sys; print(\"Python\", sys.version)\n",
    "import numpy as np; print(\"Numpy\", np.__version__)\n",
    "import matplotlib\n",
    "import matplotlib.pyplot as plt; print(\"Matplotlib\", matplotlib.__version__)\n",
    "import pandas as pd; print(\"Pandas\", pd.__version__)\n",
    "import seaborn as sns; print(\"Seaborn\", sns.__version__)\n",
    "import scipy; print(\"Scipy\", scipy.__version__)\n",
    "import sklearn; print(\"Scikit -Learn\", sklearn.__version__)\n",
    "import funcs"
   ]
  },
  {
   "cell_type": "code",
   "execution_count": 2,
   "id": "therapeutic-feelings",
   "metadata": {},
   "outputs": [],
   "source": [
    "# set theme for seaborn\n",
    "sns.set_style('whitegrid')\n",
    "sns.set(font_scale = 0.8)"
   ]
  },
  {
   "cell_type": "markdown",
   "id": "declared-starter",
   "metadata": {},
   "source": [
    "### Read and check data for quality issues\n",
    "\n",
    "A function us created to do the following:\n",
    "- Read the data\n",
    "- Drop duplicates\n",
    "- Create a list of feature names\n",
    "- Create a containing data types and nulls."
   ]
  },
  {
   "cell_type": "code",
   "execution_count": 3,
   "id": "sunset-cambridge",
   "metadata": {},
   "outputs": [],
   "source": [
    "path = 'alcohol-consumption-in-russia.csv'"
   ]
  },
  {
   "cell_type": "code",
   "execution_count": 4,
   "id": "cordless-perth",
   "metadata": {},
   "outputs": [
    {
     "name": "stdout",
     "output_type": "stream",
     "text": [
      "Making a copy of the dataframe\n",
      "\n",
      "Data consists of:\n",
      "\n",
      "...........................\n",
      "\n",
      "Rows: 1615\n",
      "\n",
      "Columns: 7\n",
      "\n",
      "...........................\n",
      "\n",
      "Extracting count and percentages of nulls and non nulls\n"
     ]
    }
   ],
   "source": [
    "df, df_cols, df_nulls = funcs.read_data(path)"
   ]
  },
  {
   "cell_type": "code",
   "execution_count": 5,
   "id": "central-lodge",
   "metadata": {},
   "outputs": [
    {
     "data": {
      "text/html": [
       "<div>\n",
       "<style scoped>\n",
       "    .dataframe tbody tr th:only-of-type {\n",
       "        vertical-align: middle;\n",
       "    }\n",
       "\n",
       "    .dataframe tbody tr th {\n",
       "        vertical-align: top;\n",
       "    }\n",
       "\n",
       "    .dataframe thead th {\n",
       "        text-align: right;\n",
       "    }\n",
       "</style>\n",
       "<table border=\"1\" class=\"dataframe\">\n",
       "  <thead>\n",
       "    <tr style=\"text-align: right;\">\n",
       "      <th></th>\n",
       "      <th>year</th>\n",
       "      <th>region</th>\n",
       "      <th>wine</th>\n",
       "      <th>beer</th>\n",
       "      <th>vodka</th>\n",
       "      <th>champagne</th>\n",
       "      <th>brandy</th>\n",
       "    </tr>\n",
       "  </thead>\n",
       "  <tbody>\n",
       "    <tr>\n",
       "      <th>0</th>\n",
       "      <td>1998</td>\n",
       "      <td>Republic of Adygea</td>\n",
       "      <td>1.9</td>\n",
       "      <td>8.8</td>\n",
       "      <td>3.4</td>\n",
       "      <td>0.3</td>\n",
       "      <td>0.1</td>\n",
       "    </tr>\n",
       "    <tr>\n",
       "      <th>1</th>\n",
       "      <td>1998</td>\n",
       "      <td>Altai Krai</td>\n",
       "      <td>3.3</td>\n",
       "      <td>19.2</td>\n",
       "      <td>11.3</td>\n",
       "      <td>1.1</td>\n",
       "      <td>0.1</td>\n",
       "    </tr>\n",
       "    <tr>\n",
       "      <th>2</th>\n",
       "      <td>1998</td>\n",
       "      <td>Amur Oblast</td>\n",
       "      <td>2.1</td>\n",
       "      <td>21.2</td>\n",
       "      <td>17.3</td>\n",
       "      <td>0.7</td>\n",
       "      <td>0.4</td>\n",
       "    </tr>\n",
       "    <tr>\n",
       "      <th>3</th>\n",
       "      <td>1998</td>\n",
       "      <td>Arkhangelsk Oblast</td>\n",
       "      <td>4.3</td>\n",
       "      <td>10.6</td>\n",
       "      <td>11.7</td>\n",
       "      <td>0.4</td>\n",
       "      <td>0.3</td>\n",
       "    </tr>\n",
       "    <tr>\n",
       "      <th>4</th>\n",
       "      <td>1998</td>\n",
       "      <td>Astrakhan Oblast</td>\n",
       "      <td>2.9</td>\n",
       "      <td>18.0</td>\n",
       "      <td>9.5</td>\n",
       "      <td>0.8</td>\n",
       "      <td>0.2</td>\n",
       "    </tr>\n",
       "  </tbody>\n",
       "</table>\n",
       "</div>"
      ],
      "text/plain": [
       "   year              region  wine  beer  vodka  champagne  brandy\n",
       "0  1998  Republic of Adygea   1.9   8.8    3.4        0.3     0.1\n",
       "1  1998          Altai Krai   3.3  19.2   11.3        1.1     0.1\n",
       "2  1998         Amur Oblast   2.1  21.2   17.3        0.7     0.4\n",
       "3  1998  Arkhangelsk Oblast   4.3  10.6   11.7        0.4     0.3\n",
       "4  1998    Astrakhan Oblast   2.9  18.0    9.5        0.8     0.2"
      ]
     },
     "execution_count": 5,
     "metadata": {},
     "output_type": "execute_result"
    }
   ],
   "source": [
    "# inspect first 5 rows of data\n",
    "df.head()"
   ]
  },
  {
   "cell_type": "code",
   "execution_count": 6,
   "id": "separated-hopkins",
   "metadata": {},
   "outputs": [
    {
     "data": {
      "text/html": [
       "<div>\n",
       "<style scoped>\n",
       "    .dataframe tbody tr th:only-of-type {\n",
       "        vertical-align: middle;\n",
       "    }\n",
       "\n",
       "    .dataframe tbody tr th {\n",
       "        vertical-align: top;\n",
       "    }\n",
       "\n",
       "    .dataframe thead th {\n",
       "        text-align: right;\n",
       "    }\n",
       "</style>\n",
       "<table border=\"1\" class=\"dataframe\">\n",
       "  <thead>\n",
       "    <tr style=\"text-align: right;\">\n",
       "      <th></th>\n",
       "      <th>Feature</th>\n",
       "      <th>DataType</th>\n",
       "      <th>CountOfNonNulls</th>\n",
       "      <th>CountOfNulls</th>\n",
       "      <th>PercentOfNullsIinColumn</th>\n",
       "      <th>PercentOfNullsInData</th>\n",
       "    </tr>\n",
       "  </thead>\n",
       "  <tbody>\n",
       "    <tr>\n",
       "      <th>0</th>\n",
       "      <td>year</td>\n",
       "      <td>int64</td>\n",
       "      <td>1615</td>\n",
       "      <td>0</td>\n",
       "      <td>0.000000</td>\n",
       "      <td>0.000000</td>\n",
       "    </tr>\n",
       "    <tr>\n",
       "      <th>1</th>\n",
       "      <td>region</td>\n",
       "      <td>object</td>\n",
       "      <td>1615</td>\n",
       "      <td>0</td>\n",
       "      <td>0.000000</td>\n",
       "      <td>0.000000</td>\n",
       "    </tr>\n",
       "    <tr>\n",
       "      <th>2</th>\n",
       "      <td>wine</td>\n",
       "      <td>float64</td>\n",
       "      <td>1552</td>\n",
       "      <td>63</td>\n",
       "      <td>3.900929</td>\n",
       "      <td>20.257235</td>\n",
       "    </tr>\n",
       "    <tr>\n",
       "      <th>3</th>\n",
       "      <td>beer</td>\n",
       "      <td>float64</td>\n",
       "      <td>1557</td>\n",
       "      <td>58</td>\n",
       "      <td>3.591331</td>\n",
       "      <td>18.649518</td>\n",
       "    </tr>\n",
       "    <tr>\n",
       "      <th>4</th>\n",
       "      <td>vodka</td>\n",
       "      <td>float64</td>\n",
       "      <td>1554</td>\n",
       "      <td>61</td>\n",
       "      <td>3.777090</td>\n",
       "      <td>19.614148</td>\n",
       "    </tr>\n",
       "    <tr>\n",
       "      <th>5</th>\n",
       "      <td>champagne</td>\n",
       "      <td>float64</td>\n",
       "      <td>1552</td>\n",
       "      <td>63</td>\n",
       "      <td>3.900929</td>\n",
       "      <td>20.257235</td>\n",
       "    </tr>\n",
       "    <tr>\n",
       "      <th>6</th>\n",
       "      <td>brandy</td>\n",
       "      <td>float64</td>\n",
       "      <td>1549</td>\n",
       "      <td>66</td>\n",
       "      <td>4.086687</td>\n",
       "      <td>21.221865</td>\n",
       "    </tr>\n",
       "  </tbody>\n",
       "</table>\n",
       "</div>"
      ],
      "text/plain": [
       "     Feature DataType  CountOfNonNulls  CountOfNulls  PercentOfNullsIinColumn  \\\n",
       "0       year    int64             1615             0                 0.000000   \n",
       "1     region   object             1615             0                 0.000000   \n",
       "2       wine  float64             1552            63                 3.900929   \n",
       "3       beer  float64             1557            58                 3.591331   \n",
       "4      vodka  float64             1554            61                 3.777090   \n",
       "5  champagne  float64             1552            63                 3.900929   \n",
       "6     brandy  float64             1549            66                 4.086687   \n",
       "\n",
       "   PercentOfNullsInData  \n",
       "0              0.000000  \n",
       "1              0.000000  \n",
       "2             20.257235  \n",
       "3             18.649518  \n",
       "4             19.614148  \n",
       "5             20.257235  \n",
       "6             21.221865  "
      ]
     },
     "execution_count": 6,
     "metadata": {},
     "output_type": "execute_result"
    }
   ],
   "source": [
    "# check for quality issues in data\n",
    "df_nulls"
   ]
  },
  {
   "cell_type": "code",
   "execution_count": 7,
   "id": "neutral-cancer",
   "metadata": {},
   "outputs": [
    {
     "data": {
      "image/png": "[encoded data removed]",
      "text/plain": [
       "<Figure size 864x1080 with 1 Axes>"
      ]
     },
     "metadata": {},
     "output_type": "display_data"
    }
   ],
   "source": [
    "funcs.plot_nulls(df_nulls)"
   ]
  },
  {
   "cell_type": "code",
   "execution_count": 8,
   "id": "convenient-treasurer",
   "metadata": {},
   "outputs": [
    {
     "data": {
      "text/html": [
       "<div>\n",
       "<style scoped>\n",
       "    .dataframe tbody tr th:only-of-type {\n",
       "        vertical-align: middle;\n",
       "    }\n",
       "\n",
       "    .dataframe tbody tr th {\n",
       "        vertical-align: top;\n",
       "    }\n",
       "\n",
       "    .dataframe thead th {\n",
       "        text-align: right;\n",
       "    }\n",
       "</style>\n",
       "<table border=\"1\" class=\"dataframe\">\n",
       "  <thead>\n",
       "    <tr style=\"text-align: right;\">\n",
       "      <th></th>\n",
       "      <th>year</th>\n",
       "      <th>wine</th>\n",
       "      <th>beer</th>\n",
       "      <th>vodka</th>\n",
       "      <th>champagne</th>\n",
       "      <th>brandy</th>\n",
       "    </tr>\n",
       "  </thead>\n",
       "  <tbody>\n",
       "    <tr>\n",
       "      <th>count</th>\n",
       "      <td>1615.000000</td>\n",
       "      <td>1552.000000</td>\n",
       "      <td>1557.000000</td>\n",
       "      <td>1554.000000</td>\n",
       "      <td>1552.000000</td>\n",
       "      <td>1549.000000</td>\n",
       "    </tr>\n",
       "    <tr>\n",
       "      <th>mean</th>\n",
       "      <td>2007.000000</td>\n",
       "      <td>5.628144</td>\n",
       "      <td>51.260148</td>\n",
       "      <td>11.818694</td>\n",
       "      <td>1.313177</td>\n",
       "      <td>0.526998</td>\n",
       "    </tr>\n",
       "    <tr>\n",
       "      <th>std</th>\n",
       "      <td>5.478922</td>\n",
       "      <td>2.813208</td>\n",
       "      <td>25.372821</td>\n",
       "      <td>5.128806</td>\n",
       "      <td>0.797956</td>\n",
       "      <td>0.400201</td>\n",
       "    </tr>\n",
       "    <tr>\n",
       "      <th>min</th>\n",
       "      <td>1998.000000</td>\n",
       "      <td>0.100000</td>\n",
       "      <td>0.400000</td>\n",
       "      <td>0.050000</td>\n",
       "      <td>0.100000</td>\n",
       "      <td>0.000000</td>\n",
       "    </tr>\n",
       "    <tr>\n",
       "      <th>25%</th>\n",
       "      <td>2002.000000</td>\n",
       "      <td>3.575000</td>\n",
       "      <td>32.400000</td>\n",
       "      <td>8.300000</td>\n",
       "      <td>0.800000</td>\n",
       "      <td>0.200000</td>\n",
       "    </tr>\n",
       "    <tr>\n",
       "      <th>50%</th>\n",
       "      <td>2007.000000</td>\n",
       "      <td>5.400000</td>\n",
       "      <td>49.970000</td>\n",
       "      <td>11.500000</td>\n",
       "      <td>1.200000</td>\n",
       "      <td>0.400000</td>\n",
       "    </tr>\n",
       "    <tr>\n",
       "      <th>75%</th>\n",
       "      <td>2012.000000</td>\n",
       "      <td>7.377500</td>\n",
       "      <td>67.400000</td>\n",
       "      <td>15.000000</td>\n",
       "      <td>1.665000</td>\n",
       "      <td>0.700000</td>\n",
       "    </tr>\n",
       "    <tr>\n",
       "      <th>max</th>\n",
       "      <td>2016.000000</td>\n",
       "      <td>18.100000</td>\n",
       "      <td>207.300000</td>\n",
       "      <td>40.600000</td>\n",
       "      <td>5.560000</td>\n",
       "      <td>2.300000</td>\n",
       "    </tr>\n",
       "  </tbody>\n",
       "</table>\n",
       "</div>"
      ],
      "text/plain": [
       "              year         wine         beer        vodka    champagne  \\\n",
       "count  1615.000000  1552.000000  1557.000000  1554.000000  1552.000000   \n",
       "mean   2007.000000     5.628144    51.260148    11.818694     1.313177   \n",
       "std       5.478922     2.813208    25.372821     5.128806     0.797956   \n",
       "min    1998.000000     0.100000     0.400000     0.050000     0.100000   \n",
       "25%    2002.000000     3.575000    32.400000     8.300000     0.800000   \n",
       "50%    2007.000000     5.400000    49.970000    11.500000     1.200000   \n",
       "75%    2012.000000     7.377500    67.400000    15.000000     1.665000   \n",
       "max    2016.000000    18.100000   207.300000    40.600000     5.560000   \n",
       "\n",
       "            brandy  \n",
       "count  1549.000000  \n",
       "mean      0.526998  \n",
       "std       0.400201  \n",
       "min       0.000000  \n",
       "25%       0.200000  \n",
       "50%       0.400000  \n",
       "75%       0.700000  \n",
       "max       2.300000  "
      ]
     },
     "execution_count": 8,
     "metadata": {},
     "output_type": "execute_result"
    }
   ],
   "source": [
    "# summary statistics for numerical features\n",
    "df.describe()"
   ]
  },
  {
   "cell_type": "code",
   "execution_count": 9,
   "id": "internal-notice",
   "metadata": {},
   "outputs": [
    {
     "data": {
      "text/html": [
       "<div>\n",
       "<style scoped>\n",
       "    .dataframe tbody tr th:only-of-type {\n",
       "        vertical-align: middle;\n",
       "    }\n",
       "\n",
       "    .dataframe tbody tr th {\n",
       "        vertical-align: top;\n",
       "    }\n",
       "\n",
       "    .dataframe thead th {\n",
       "        text-align: right;\n",
       "    }\n",
       "</style>\n",
       "<table border=\"1\" class=\"dataframe\">\n",
       "  <thead>\n",
       "    <tr style=\"text-align: right;\">\n",
       "      <th></th>\n",
       "      <th>region</th>\n",
       "    </tr>\n",
       "  </thead>\n",
       "  <tbody>\n",
       "    <tr>\n",
       "      <th>count</th>\n",
       "      <td>1615</td>\n",
       "    </tr>\n",
       "    <tr>\n",
       "      <th>unique</th>\n",
       "      <td>85</td>\n",
       "    </tr>\n",
       "    <tr>\n",
       "      <th>top</th>\n",
       "      <td>Chukotka Autonomous Okrug</td>\n",
       "    </tr>\n",
       "    <tr>\n",
       "      <th>freq</th>\n",
       "      <td>19</td>\n",
       "    </tr>\n",
       "  </tbody>\n",
       "</table>\n",
       "</div>"
      ],
      "text/plain": [
       "                           region\n",
       "count                        1615\n",
       "unique                         85\n",
       "top     Chukotka Autonomous Okrug\n",
       "freq                           19"
      ]
     },
     "execution_count": 9,
     "metadata": {},
     "output_type": "execute_result"
    }
   ],
   "source": [
    "# numerical data\n",
    "df.describe(exclude = 'number')"
   ]
  },
  {
   "cell_type": "markdown",
   "id": "bibliographic-transport",
   "metadata": {},
   "source": [
    "As can be observed above, the dataset consists of 1615 rows and 7 columns. Region is the only column of type object. Also, we can tell that there are missing values in all the columns containing data of the alcoholic beverages. Noteably, Brandy has the most missing values, about 21.2% of total nulls in data. We will handle missing values in the cleaning and transformation sections. \n",
    "\n",
    "The summary statistics gave us an overview of basic statistical properties. We can tell that the data contains sales per capita records from the 2002 to 1998. There are 85 regions covered and Kamchatka Krai is the most frequent among region values."
   ]
  },
  {
   "cell_type": "markdown",
   "id": "deadly-reporter",
   "metadata": {},
   "source": [
    "### Clean and Transform Data\n",
    "\n",
    "The data is relatively clean based on our observation from inspection section. We will handle missing values by imputing the mean of values in each beverage column and also, strip leading and trailing spaces in region column.\n",
    "\n",
    "A function is created to perform the cleaning and transformation processes stated above."
   ]
  },
  {
   "cell_type": "code",
   "execution_count": 10,
   "id": "incredible-segment",
   "metadata": {},
   "outputs": [],
   "source": [
    "# clean and transform data\n",
    "df_clean = funcs.clean_and_transform(df)"
   ]
  },
  {
   "cell_type": "code",
   "execution_count": 11,
   "id": "specific-michigan",
   "metadata": {},
   "outputs": [
    {
     "data": {
      "text/html": [
       "<div>\n",
       "<style scoped>\n",
       "    .dataframe tbody tr th:only-of-type {\n",
       "        vertical-align: middle;\n",
       "    }\n",
       "\n",
       "    .dataframe tbody tr th {\n",
       "        vertical-align: top;\n",
       "    }\n",
       "\n",
       "    .dataframe thead th {\n",
       "        text-align: right;\n",
       "    }\n",
       "</style>\n",
       "<table border=\"1\" class=\"dataframe\">\n",
       "  <thead>\n",
       "    <tr style=\"text-align: right;\">\n",
       "      <th></th>\n",
       "      <th>year</th>\n",
       "      <th>region</th>\n",
       "      <th>wine</th>\n",
       "      <th>beer</th>\n",
       "      <th>vodka</th>\n",
       "      <th>champagne</th>\n",
       "      <th>brandy</th>\n",
       "    </tr>\n",
       "  </thead>\n",
       "  <tbody>\n",
       "    <tr>\n",
       "      <th>0</th>\n",
       "      <td>1998-01-01</td>\n",
       "      <td>Republic of Adygea</td>\n",
       "      <td>1.9</td>\n",
       "      <td>8.8</td>\n",
       "      <td>3.4</td>\n",
       "      <td>0.3</td>\n",
       "      <td>0.1</td>\n",
       "    </tr>\n",
       "    <tr>\n",
       "      <th>1</th>\n",
       "      <td>1998-01-01</td>\n",
       "      <td>Altai Krai</td>\n",
       "      <td>3.3</td>\n",
       "      <td>19.2</td>\n",
       "      <td>11.3</td>\n",
       "      <td>1.1</td>\n",
       "      <td>0.1</td>\n",
       "    </tr>\n",
       "    <tr>\n",
       "      <th>2</th>\n",
       "      <td>1998-01-01</td>\n",
       "      <td>Amur Oblast</td>\n",
       "      <td>2.1</td>\n",
       "      <td>21.2</td>\n",
       "      <td>17.3</td>\n",
       "      <td>0.7</td>\n",
       "      <td>0.4</td>\n",
       "    </tr>\n",
       "    <tr>\n",
       "      <th>3</th>\n",
       "      <td>1998-01-01</td>\n",
       "      <td>Arkhangelsk Oblast</td>\n",
       "      <td>4.3</td>\n",
       "      <td>10.6</td>\n",
       "      <td>11.7</td>\n",
       "      <td>0.4</td>\n",
       "      <td>0.3</td>\n",
       "    </tr>\n",
       "    <tr>\n",
       "      <th>4</th>\n",
       "      <td>1998-01-01</td>\n",
       "      <td>Astrakhan Oblast</td>\n",
       "      <td>2.9</td>\n",
       "      <td>18.0</td>\n",
       "      <td>9.5</td>\n",
       "      <td>0.8</td>\n",
       "      <td>0.2</td>\n",
       "    </tr>\n",
       "  </tbody>\n",
       "</table>\n",
       "</div>"
      ],
      "text/plain": [
       "        year              region  wine  beer  vodka  champagne  brandy\n",
       "0 1998-01-01  Republic of Adygea   1.9   8.8    3.4        0.3     0.1\n",
       "1 1998-01-01          Altai Krai   3.3  19.2   11.3        1.1     0.1\n",
       "2 1998-01-01         Amur Oblast   2.1  21.2   17.3        0.7     0.4\n",
       "3 1998-01-01  Arkhangelsk Oblast   4.3  10.6   11.7        0.4     0.3\n",
       "4 1998-01-01    Astrakhan Oblast   2.9  18.0    9.5        0.8     0.2"
      ]
     },
     "execution_count": 11,
     "metadata": {},
     "output_type": "execute_result"
    }
   ],
   "source": [
    "# inspect data again for quality issues\n",
    "df_clean.head()"
   ]
  },
  {
   "cell_type": "markdown",
   "id": "driving-grammar",
   "metadata": {},
   "source": [
    "### Visualizations\n",
    "\n",
    "Visualizing the data will aid in identifying patterns and relationships among the features. For this project, we will create the following plots:\n",
    "- Time series of sales data.\n",
    "- Regional Sales.\n",
    "- Correlation of numerical features.\n",
    "\n",
    "We will also create a function for some of these plots."
   ]
  },
  {
   "cell_type": "code",
   "execution_count": 15,
   "id": "looking-tobago",
   "metadata": {},
   "outputs": [
    {
     "ename": "UnexpectedDataFrame",
     "evalue": "DataFrame supplied is not expected.",
     "output_type": "error",
     "traceback": [
      "\u001b[1;31m---------------------------------------------------------------------------\u001b[0m",
      "\u001b[1;31mUnexpectedDataFrame\u001b[0m                       Traceback (most recent call last)",
      "\u001b[1;32m<ipython-input-15-92fa4dcd6aff>\u001b[0m in \u001b[0;36m<module>\u001b[1;34m\u001b[0m\n\u001b[1;32m----> 1\u001b[1;33m \u001b[0mfuncs\u001b[0m\u001b[1;33m.\u001b[0m\u001b[0mplot_timeseries\u001b[0m\u001b[1;33m(\u001b[0m\u001b[0mdf_nulls\u001b[0m\u001b[1;33m)\u001b[0m\u001b[1;33m\u001b[0m\u001b[1;33m\u001b[0m\u001b[0m\n\u001b[0m",
      "\u001b[1;32m~\\OneDrive\\Desktop\\gitrepos\\Alcohol-Consumption-in-Russia\\funcs.py\u001b[0m in \u001b[0;36mplot_timeseries\u001b[1;34m(df, **kwargs)\u001b[0m\n\u001b[0;32m    249\u001b[0m                     \u001b[1;32mraise\u001b[0m \u001b[0mutils\u001b[0m\u001b[1;33m.\u001b[0m\u001b[0mBeverageRegionExceptions\u001b[0m\u001b[1;33m(\u001b[0m\u001b[0mbeverage\u001b[0m\u001b[1;33m,\u001b[0m \u001b[0msales_region\u001b[0m\u001b[1;33m)\u001b[0m\u001b[1;33m\u001b[0m\u001b[1;33m\u001b[0m\u001b[0m\n\u001b[0;32m    250\u001b[0m         \u001b[1;32melse\u001b[0m\u001b[1;33m:\u001b[0m\u001b[1;33m\u001b[0m\u001b[1;33m\u001b[0m\u001b[0m\n\u001b[1;32m--> 251\u001b[1;33m             \u001b[1;32mraise\u001b[0m \u001b[0mutils\u001b[0m\u001b[1;33m.\u001b[0m\u001b[0mUnexpectedDataFrame\u001b[0m\u001b[1;33m(\u001b[0m\u001b[0mdf\u001b[0m\u001b[1;33m)\u001b[0m\u001b[1;33m\u001b[0m\u001b[1;33m\u001b[0m\u001b[0m\n\u001b[0m\u001b[0;32m    252\u001b[0m     \u001b[1;32melse\u001b[0m\u001b[1;33m:\u001b[0m\u001b[1;33m\u001b[0m\u001b[1;33m\u001b[0m\u001b[0m\n\u001b[0;32m    253\u001b[0m         \u001b[1;32mraise\u001b[0m \u001b[0mutils\u001b[0m\u001b[1;33m.\u001b[0m\u001b[0mInvalidDataFrame\u001b[0m\u001b[1;33m(\u001b[0m\u001b[0mdf\u001b[0m\u001b[1;33m)\u001b[0m\u001b[1;33m\u001b[0m\u001b[1;33m\u001b[0m\u001b[0m\n",
      "\u001b[1;31mUnexpectedDataFrame\u001b[0m: DataFrame supplied is not expected."
     ]
    }
   ],
   "source": [
    "funcs.plot_timeseries(df_nulls)"
   ]
  },
  {
   "cell_type": "code",
   "execution_count": null,
   "id": "announced-corpus",
   "metadata": {},
   "outputs": [],
   "source": [
    "# Time series beverage sales\n",
    "funcs.plot_timeseries(df_nulls)"
   ]
  },
  {
   "cell_type": "markdown",
   "id": "buried-example",
   "metadata": {},
   "source": [
    "The time series plot above indicates that beer had the highest sales over year even though sales decreased from 2012 to 2015. On the other hand, our product of interest, wine, saw a gradual increase in sales starting from 2002. Vodka also experienced gradual drop in sales. There is minimal sales increase for champagne and brandy."
   ]
  },
  {
   "cell_type": "code",
   "execution_count": 20,
   "id": "authorized-scoop",
   "metadata": {},
   "outputs": [
    {
     "ename": "InvalidDataFrame",
     "evalue": "Object supplied is not a valid DataFrame.",
     "output_type": "error",
     "traceback": [
      "\u001b[1;31m---------------------------------------------------------------------------\u001b[0m",
      "\u001b[1;31mInvalidDataFrame\u001b[0m                          Traceback (most recent call last)",
      "\u001b[1;32m<ipython-input-20-81f5241e01d5>\u001b[0m in \u001b[0;36m<module>\u001b[1;34m\u001b[0m\n\u001b[0;32m      1\u001b[0m \u001b[1;31m# time series for Saint Petersburg\u001b[0m\u001b[1;33m\u001b[0m\u001b[1;33m\u001b[0m\u001b[1;33m\u001b[0m\u001b[0m\n\u001b[1;32m----> 2\u001b[1;33m \u001b[0mfuncs\u001b[0m\u001b[1;33m.\u001b[0m\u001b[0mplot_timeseries\u001b[0m\u001b[1;33m(\u001b[0m\u001b[0mdf_clean\u001b[0m\u001b[1;33m[\u001b[0m\u001b[1;34m'wine'\u001b[0m\u001b[1;33m]\u001b[0m\u001b[1;33m,\u001b[0m \u001b[0mbeverage\u001b[0m \u001b[1;33m=\u001b[0m \u001b[1;34m'wine'\u001b[0m\u001b[1;33m)\u001b[0m\u001b[1;33m\u001b[0m\u001b[1;33m\u001b[0m\u001b[0m\n\u001b[0m\u001b[0;32m      3\u001b[0m \u001b[1;31m# funcs.plot_timeseries(df_melt, 'Saint Petersburg', 'wine')\u001b[0m\u001b[1;33m\u001b[0m\u001b[1;33m\u001b[0m\u001b[1;33m\u001b[0m\u001b[0m\n\u001b[0;32m      4\u001b[0m \u001b[1;31m# plot_features(df_clean, 'all regions', 'brandy')\u001b[0m\u001b[1;33m\u001b[0m\u001b[1;33m\u001b[0m\u001b[1;33m\u001b[0m\u001b[0m\n",
      "\u001b[1;32m~\\OneDrive\\Desktop\\gitrepos\\Alcohol-Consumption-in-Russia\\funcs.py\u001b[0m in \u001b[0;36mplot_timeseries\u001b[1;34m(df, **kwargs)\u001b[0m\n\u001b[0;32m    251\u001b[0m             \u001b[1;32mraise\u001b[0m \u001b[0mutils\u001b[0m\u001b[1;33m.\u001b[0m\u001b[0mUnexpectedDataFrame\u001b[0m\u001b[1;33m(\u001b[0m\u001b[0mdf\u001b[0m\u001b[1;33m)\u001b[0m\u001b[1;33m\u001b[0m\u001b[1;33m\u001b[0m\u001b[0m\n\u001b[0;32m    252\u001b[0m     \u001b[1;32melse\u001b[0m\u001b[1;33m:\u001b[0m\u001b[1;33m\u001b[0m\u001b[1;33m\u001b[0m\u001b[0m\n\u001b[1;32m--> 253\u001b[1;33m         \u001b[1;32mraise\u001b[0m \u001b[0mutils\u001b[0m\u001b[1;33m.\u001b[0m\u001b[0mInvalidDataFrame\u001b[0m\u001b[1;33m(\u001b[0m\u001b[0mdf\u001b[0m\u001b[1;33m)\u001b[0m\u001b[1;33m\u001b[0m\u001b[1;33m\u001b[0m\u001b[0m\n\u001b[0m\u001b[0;32m    254\u001b[0m \u001b[1;33m\u001b[0m\u001b[0m\n\u001b[0;32m    255\u001b[0m \u001b[1;33m\u001b[0m\u001b[0m\n",
      "\u001b[1;31mInvalidDataFrame\u001b[0m: Object supplied is not a valid DataFrame."
     ]
    }
   ],
   "source": [
    "# time series for Saint Petersburg\n",
    "funcs.plot_timeseries(df_clean['wine'], beverage = 'wine')\n",
    "# funcs.plot_timeseries(df_melt, 'Saint Petersburg', 'wine')\n",
    "# plot_features(df_clean, 'all regions', 'brandy')"
   ]
  },
  {
   "cell_type": "code",
   "execution_count": null,
   "id": "attractive-triumph",
   "metadata": {},
   "outputs": [],
   "source": [
    "funcs.plot_timeseries(df_clean, sales_region = 'Saint Petersbur', beverage = 'wine')"
   ]
  },
  {
   "cell_type": "code",
   "execution_count": null,
   "id": "tribal-criticism",
   "metadata": {},
   "outputs": [],
   "source": [
    "funcs.plot_timeseries(df_clean, beverage = 'brandy')"
   ]
  },
  {
   "cell_type": "markdown",
   "id": "sunrise-regular",
   "metadata": {},
   "source": [
    "Sales in Saint Petersburg follows same trend as combined regions. Zooming in on wine, we can see a leap between 2004 and 2005 followed by fluctuating sales up to 2015."
   ]
  },
  {
   "cell_type": "code",
   "execution_count": null,
   "id": "contrary-burke",
   "metadata": {},
   "outputs": [],
   "source": [
    "funcs.box_plot(df_clean)"
   ]
  },
  {
   "cell_type": "code",
   "execution_count": 13,
   "id": "integral-station",
   "metadata": {},
   "outputs": [
    {
     "ename": "UnexpectedDataFrame",
     "evalue": "DataFrame supplied is not expected.",
     "output_type": "error",
     "traceback": [
      "\u001b[1;31m---------------------------------------------------------------------------\u001b[0m",
      "\u001b[1;31mUnexpectedDataFrame\u001b[0m                       Traceback (most recent call last)",
      "\u001b[1;32m<ipython-input-13-f128b8ea1158>\u001b[0m in \u001b[0;36m<module>\u001b[1;34m\u001b[0m\n\u001b[1;32m----> 1\u001b[1;33m \u001b[0mfuncs\u001b[0m\u001b[1;33m.\u001b[0m\u001b[0mbar_plot\u001b[0m\u001b[1;33m(\u001b[0m\u001b[0mdf_nulls\u001b[0m\u001b[1;33m,\u001b[0m \u001b[0mbeverage\u001b[0m \u001b[1;33m=\u001b[0m \u001b[1;34m'wine'\u001b[0m\u001b[1;33m)\u001b[0m\u001b[1;33m\u001b[0m\u001b[1;33m\u001b[0m\u001b[0m\n\u001b[0m",
      "\u001b[1;32m~\\OneDrive\\Desktop\\gitrepos\\Alcohol-Consumption-in-Russia\\funcs.py\u001b[0m in \u001b[0;36mbar_plot\u001b[1;34m(df, n, **kwargs)\u001b[0m\n\u001b[0;32m    318\u001b[0m                     \u001b[1;32mraise\u001b[0m \u001b[0mutils\u001b[0m\u001b[1;33m.\u001b[0m\u001b[0mInvalidBeverage\u001b[0m\u001b[1;33m(\u001b[0m\u001b[0mbeverage\u001b[0m\u001b[1;33m)\u001b[0m\u001b[1;33m\u001b[0m\u001b[1;33m\u001b[0m\u001b[0m\n\u001b[0;32m    319\u001b[0m         \u001b[1;32melse\u001b[0m\u001b[1;33m:\u001b[0m\u001b[1;33m\u001b[0m\u001b[1;33m\u001b[0m\u001b[0m\n\u001b[1;32m--> 320\u001b[1;33m             \u001b[1;32mraise\u001b[0m \u001b[0mutils\u001b[0m\u001b[1;33m.\u001b[0m\u001b[0mUnexpectedDataFrame\u001b[0m\u001b[1;33m(\u001b[0m\u001b[0mdf\u001b[0m\u001b[1;33m)\u001b[0m\u001b[1;33m\u001b[0m\u001b[1;33m\u001b[0m\u001b[0m\n\u001b[0m\u001b[0;32m    321\u001b[0m     \u001b[1;32melse\u001b[0m\u001b[1;33m:\u001b[0m\u001b[1;33m\u001b[0m\u001b[1;33m\u001b[0m\u001b[0m\n\u001b[0;32m    322\u001b[0m         \u001b[1;32mraise\u001b[0m \u001b[0mutils\u001b[0m\u001b[1;33m.\u001b[0m\u001b[0mInvalidDataFrame\u001b[0m\u001b[1;33m(\u001b[0m\u001b[0mdf\u001b[0m\u001b[1;33m)\u001b[0m\u001b[1;33m\u001b[0m\u001b[1;33m\u001b[0m\u001b[0m\n",
      "\u001b[1;31mUnexpectedDataFrame\u001b[0m: DataFrame supplied is not expected."
     ]
    }
   ],
   "source": [
    "funcs.bar_plot(df_nulls, beverage = 'wine')"
   ]
  },
  {
   "cell_type": "markdown",
   "id": "lovely-spank",
   "metadata": {},
   "source": [
    "Looking at location sales, Saint Pertersgburg tops the list followed by Moscow and Yamalo-Nenets Autonomous Okrug in third. As observed in the time series plot, beer has the most sales by region."
   ]
  },
  {
   "cell_type": "markdown",
   "id": "exclusive-conclusion",
   "metadata": {},
   "source": [
    "The boxplot shows the distribution of sales per beverage. There are three regions in beer sales that are outliers outliers while you can observe 2 outlier regions in wine sales. "
   ]
  },
  {
   "cell_type": "code",
   "execution_count": 18,
   "id": "strange-simpson",
   "metadata": {},
   "outputs": [
    {
     "ename": "InvalidDataFrame",
     "evalue": "Object supplied is not a valid DataFrame.",
     "output_type": "error",
     "traceback": [
      "\u001b[1;31m---------------------------------------------------------------------------\u001b[0m",
      "\u001b[1;31mInvalidDataFrame\u001b[0m                          Traceback (most recent call last)",
      "\u001b[1;32m<ipython-input-18-b9ba19a2a82b>\u001b[0m in \u001b[0;36m<module>\u001b[1;34m\u001b[0m\n\u001b[1;32m----> 1\u001b[1;33m \u001b[0mfuncs\u001b[0m\u001b[1;33m.\u001b[0m\u001b[0mcorr_heatmap\u001b[0m\u001b[1;33m(\u001b[0m\u001b[0mdf_clean\u001b[0m\u001b[1;33m[\u001b[0m\u001b[1;34m'region'\u001b[0m\u001b[1;33m]\u001b[0m\u001b[1;33m)\u001b[0m\u001b[1;33m\u001b[0m\u001b[1;33m\u001b[0m\u001b[0m\n\u001b[0m",
      "\u001b[1;32m~\\OneDrive\\Desktop\\gitrepos\\Alcohol-Consumption-in-Russia\\funcs.py\u001b[0m in \u001b[0;36mcorr_heatmap\u001b[1;34m(df)\u001b[0m\n\u001b[0;32m    348\u001b[0m             \u001b[1;32mraise\u001b[0m \u001b[0mutils\u001b[0m\u001b[1;33m.\u001b[0m\u001b[0mUnexpectedDataFrame\u001b[0m\u001b[1;33m(\u001b[0m\u001b[0mdf\u001b[0m\u001b[1;33m)\u001b[0m\u001b[1;33m\u001b[0m\u001b[1;33m\u001b[0m\u001b[0m\n\u001b[0;32m    349\u001b[0m     \u001b[1;32melse\u001b[0m\u001b[1;33m:\u001b[0m\u001b[1;33m\u001b[0m\u001b[1;33m\u001b[0m\u001b[0m\n\u001b[1;32m--> 350\u001b[1;33m         \u001b[1;32mraise\u001b[0m \u001b[0mutils\u001b[0m\u001b[1;33m.\u001b[0m\u001b[0mInvalidDataFrame\u001b[0m\u001b[1;33m(\u001b[0m\u001b[0mdf\u001b[0m\u001b[1;33m)\u001b[0m\u001b[1;33m\u001b[0m\u001b[1;33m\u001b[0m\u001b[0m\n\u001b[0m\u001b[0;32m    351\u001b[0m \u001b[1;33m\u001b[0m\u001b[0m\n\u001b[0;32m    352\u001b[0m \u001b[1;32mdef\u001b[0m \u001b[0mpivot_data\u001b[0m\u001b[1;33m(\u001b[0m\u001b[0mdf\u001b[0m\u001b[1;33m,\u001b[0m \u001b[1;33m*\u001b[0m\u001b[0mbeverages\u001b[0m\u001b[1;33m)\u001b[0m\u001b[1;33m:\u001b[0m\u001b[1;33m\u001b[0m\u001b[1;33m\u001b[0m\u001b[0m\n",
      "\u001b[1;31mInvalidDataFrame\u001b[0m: Object supplied is not a valid DataFrame."
     ]
    }
   ],
   "source": [
    "funcs.corr_heatmap(df_clean['region'])"
   ]
  },
  {
   "cell_type": "markdown",
   "id": "infinite-reducing",
   "metadata": {},
   "source": [
    "The correlation heatmap shows a strong positive relationship between brandy and champagne sales. This signifies that for every increase in one variable, there's a corresponding increase in sales of the other variable. We can also observe positive relationship between wine and brandy sales, even though not as strong as relationship between champagne and brandy."
   ]
  },
  {
   "cell_type": "markdown",
   "id": "cognitive-desktop",
   "metadata": {},
   "source": [
    "## Machine Learning\n",
    "\n",
    "This section will aim to solve the main ask of this project. We will use **Collaborative Filtering Method**, an unsupervised machine learning algorithm to recommend regions similar to wine sales in Saint Petersburg. \n",
    "\n",
    "**Collaborative Filtering Method** is one of three major methods to build a Recommender System. This method uses a similarity score to recommend items based on user interactions (Source: [Recommendation System for Streaming Platforms](https://www.datacamp.com/community/tutorials/streaming-platform-analysis)). \n",
    "\n",
    "The following steps will be implemented:\n",
    "\n",
    "- Import machine learning modules\n",
    "- Preprocess data for machine learning\n",
    "- Compute similarity score using cosine similarity\n",
    "\n",
    "We will create functions to preprocess the data and compute similarity scores."
   ]
  },
  {
   "cell_type": "code",
   "execution_count": null,
   "id": "turkish-dublin",
   "metadata": {},
   "outputs": [],
   "source": [
    "from sklearn.preprocessing import MinMaxScaler\n",
    "from sklearn.metrics.pairwise import cosine_similarity"
   ]
  },
  {
   "cell_type": "code",
   "execution_count": null,
   "id": "incorrect-sector",
   "metadata": {},
   "outputs": [],
   "source": [
    "test_piv  = funcs.pivot_data(df_clean, 'champagne')\n",
    "test_piv.head()"
   ]
  },
  {
   "cell_type": "markdown",
   "id": "sustained-juice",
   "metadata": {},
   "source": [
    "### Preprocessing\n",
    "\n",
    "We will scale numerical features using MinMaxScaler to have numerical values between 0 and 1. Year column will be converted to object data type"
   ]
  },
  {
   "cell_type": "code",
   "execution_count": null,
   "id": "optimum-portuguese",
   "metadata": {},
   "outputs": [],
   "source": [
    "df_pivot, pv_cos_sim = funcs.preprocess_data(df_clean, 'wine', 'brandy')\n",
    "pv_cos_sim"
   ]
  },
  {
   "cell_type": "code",
   "execution_count": null,
   "id": "frozen-membrane",
   "metadata": {},
   "outputs": [],
   "source": [
    "top_n = funcs.recommend_regions(df_clean, 'Saint Petersburg', 'wine', 'vodka', 'brandy')\n",
    "top_n"
   ]
  },
  {
   "cell_type": "code",
   "execution_count": null,
   "id": "cosmetic-angel",
   "metadata": {},
   "outputs": [],
   "source": [
    "expected_cols = ['year', 'region', 'wine', 'beer', 'vodka', 'champagne', 'brandy']\n"
   ]
  },
  {
   "cell_type": "code",
   "execution_count": null,
   "id": "egyptian-republican",
   "metadata": {},
   "outputs": [],
   "source": [
    "# # aggregate data by year and region\n",
    "df_grp = df.groupby(['year', 'region'], as_index = False)[['wine', 'beer', 'vodka', 'champagne', 'brandy']].mean()\n",
    "# # # melt data frame - wide to long\n",
    "df_melt = pd.melt(df_grp, id_vars = ['year', 'region'], value_vars = ['wine', 'beer', 'vodka', 'champagne', 'brandy'],\\\n",
    "                var_name = 'beverages', value_name = 'Sales per Capita')"
   ]
  },
  {
   "cell_type": "code",
   "execution_count": null,
   "id": "genuine-paper",
   "metadata": {},
   "outputs": [],
   "source": [
    "len(df_melt)"
   ]
  }
 ],
 "metadata": {
  "interpreter": {
   "hash": "19240c841cf922010c0eebf4807f76e58a1fb8fcd93d4542f134044a1c3c24a7"
  },
  "kernelspec": {
   "display_name": "Python [conda env:pythonadv] *",
   "language": "python",
   "name": "conda-env-pythonadv-py"
  },
  "language_info": {
   "codemirror_mode": {
    "name": "ipython",
    "version": 3
   },
   "file_extension": ".py",
   "mimetype": "text/x-python",
   "name": "python",
   "nbconvert_exporter": "python",
   "pygments_lexer": "ipython3",
   "version": "3.6.12"
  }
 },
 "nbformat": 4,
 "nbformat_minor": 5
}
